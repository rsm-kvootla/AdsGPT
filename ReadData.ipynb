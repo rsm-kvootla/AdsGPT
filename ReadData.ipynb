{
 "cells": [
  {
   "cell_type": "code",
   "execution_count": 1,
   "metadata": {},
   "outputs": [
    {
     "ename": "ImportError",
     "evalue": "cannot import name 'GPT3' from 'openai' (/opt/conda/lib/python3.11/site-packages/openai/__init__.py)",
     "output_type": "error",
     "traceback": [
      "\u001b[0;31m---------------------------------------------------------------------------\u001b[0m",
      "\u001b[0;31mImportError\u001b[0m                               Traceback (most recent call last)",
      "Cell \u001b[0;32mIn[1], line 3\u001b[0m\n\u001b[1;32m      1\u001b[0m \u001b[38;5;28;01mimport\u001b[39;00m \u001b[38;5;21;01mpandas\u001b[39;00m \u001b[38;5;28;01mas\u001b[39;00m \u001b[38;5;21;01mpd\u001b[39;00m\n\u001b[1;32m      2\u001b[0m \u001b[38;5;28;01mimport\u001b[39;00m \u001b[38;5;21;01mos\u001b[39;00m\n\u001b[0;32m----> 3\u001b[0m \u001b[38;5;28;01mfrom\u001b[39;00m \u001b[38;5;21;01mopenai\u001b[39;00m \u001b[38;5;28;01mimport\u001b[39;00m GPT3 \u001b[38;5;66;03m# assuming you have the necessary OpenAI setup\u001b[39;00m\n\u001b[1;32m      5\u001b[0m \u001b[38;5;66;03m# Folder containing Parquet files\u001b[39;00m\n\u001b[1;32m      6\u001b[0m folder_path \u001b[38;5;241m=\u001b[39m \u001b[38;5;124m\"\u001b[39m\u001b[38;5;124mData\u001b[39m\u001b[38;5;124m\"\u001b[39m\n",
      "\u001b[0;31mImportError\u001b[0m: cannot import name 'GPT3' from 'openai' (/opt/conda/lib/python3.11/site-packages/openai/__init__.py)"
     ]
    }
   ],
   "source": [
    "import pandas as pd\n",
    "import os\n",
    "import openai \n",
    "\n",
    "# Folder containing Parquet files\n",
    "folder_path = \"Data\"\n",
    "\n",
    "# Load all Parquet files into a single DataFrame\n",
    "def load_parquet_files(folder):\n",
    "    all_files = [os.path.join(folder, f) for f in os.listdir(folder) if f.endswith(\".parquet\")]\n",
    "    df_list = [pd.read_parquet(file) for file in all_files]\n",
    "    return pd.concat(df_list, ignore_index=True)\n",
    "\n",
    "# Function to analyze conversations for commercial intent using GPT-4\n",
    "def analyze_conversation(conversation):\n",
    "    # Send the conversation text to GPT-4 and get the response\n",
    "    response = GPT3.Completion.create(\n",
    "        model=\"gpt-4\",\n",
    "        prompt=f\"Does the following conversation have commercial intent? If yes, classify the intent and identify the relevant industry:\\n\\n{conversation}\",\n",
    "        max_tokens=100\n",
    "    )\n",
    "    # Parse GPT-4's response (assuming it returns intent and industry classification)\n",
    "    return response.choices[0].text.strip()\n",
    "\n",
    "# Load all conversations\n",
    "df = load_parquet_files(folder_path)\n",
    "\n",
    "# Initialize lists to store results\n",
    "commercial_intent = []\n",
    "industry_classification = []\n",
    "\n",
    "# Iterate through the conversations and analyze each one\n",
    "for conversation in df['conversation']:\n",
    "    result = analyze_conversation(conversation)\n",
    "    if \"commercial intent\" in result:  # This is a simplification, you'll need to parse GPT-4's response properly\n",
    "        commercial_intent.append(True)\n",
    "        # Extract relevant industry classification\n",
    "        industry = result.split(\"Relevant industry:\")[1].strip()\n",
    "        industry_classification.append(industry)\n",
    "    else:\n",
    "        commercial_intent.append(False)\n",
    "        industry_classification.append(None)\n",
    "\n",
    "# Add new columns to the DataFrame for commercial intent and industry classification\n",
    "df['CommercialIntent'] = commercial_intent\n",
    "df['IndustryClassification'] = industry_classification\n",
    "\n",
    "# Filter only the rows with commercial intent\n",
    "df_with_intent = df[df['CommercialIntent'] == True]\n",
    "\n",
    "# Select only the relevant columns for the final DataFrame\n",
    "columns_to_save = ['conversation', 'CommercialIntent', 'IndustryClassification']\n",
    "df_final = df_with_intent[columns_to_save]\n",
    "\n",
    "# Save the result to a new file\n",
    "df_final.to_csv(\"/path/to/save/commercial_intent_conversations.csv\", index=False)\n"
   ]
  }
 ],
 "metadata": {
  "kernelspec": {
   "display_name": "base",
   "language": "python",
   "name": "python3"
  },
  "language_info": {
   "codemirror_mode": {
    "name": "ipython",
    "version": 3
   },
   "file_extension": ".py",
   "mimetype": "text/x-python",
   "name": "python",
   "nbconvert_exporter": "python",
   "pygments_lexer": "ipython3",
   "version": "3.11.9"
  }
 },
 "nbformat": 4,
 "nbformat_minor": 2
}
